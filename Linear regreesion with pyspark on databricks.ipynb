{
 "cells": [
  {
   "cell_type": "markdown",
   "metadata": {
    "application/vnd.databricks.v1+cell": {
     "inputWidgets": {},
     "nuid": "96816ed7-b08a-4ca3-abb9-f99880c3535d",
     "showTitle": false,
     "title": ""
    }
   },
   "source": [
    "# Machine learning using pyspark on databricks\n",
    "# Databricks\n",
    "An open and unified data analytics platform for data engineering, data science, machine learning, and analytics using pyspark or apache spark where they can provide instances and clusters.\n",
    "\n",
    "Interactive notebooks to use Apache SparkTM, SQL, Python, Scala, Delta Lake, MLflow, TensorFlow, Keras, Scikit-learn and more.\n",
    "### Step1: go to databricks website \n",
    "![](3.png)\n",
    "### Step2: create a cluster \n",
    "![](4.png)\n",
    "![](5.png)\n",
    "![](6.png)\n",
    "### Step3: upload the data \n",
    "![](ml1.png)\n",
    "\n",
    "### Step4: Create a Notebook and write the pyspark job"
   ]
  },
  {
   "cell_type": "code",
   "execution_count": 0,
   "metadata": {
    "application/vnd.databricks.v1+cell": {
     "inputWidgets": {},
     "nuid": "6482be4c-f067-47c9-b0ac-35c938b94601",
     "showTitle": false,
     "title": ""
    }
   },
   "outputs": [
    {
     "data": {
      "text/plain": [
       "+----------+----+------+------+---+------+----+\n",
       "|total_bill| tip|   sex|smoker|day|  time|size|\n",
       "+----------+----+------+------+---+------+----+\n",
       "|     16.99|1.01|Female|    No|Sun|Dinner|   2|\n",
       "|     10.34|1.66|  Male|    No|Sun|Dinner|   3|\n",
       "|     21.01| 3.5|  Male|    No|Sun|Dinner|   3|\n",
       "|     23.68|3.31|  Male|    No|Sun|Dinner|   2|\n",
       "|     24.59|3.61|Female|    No|Sun|Dinner|   4|\n",
       "|     25.29|4.71|  Male|    No|Sun|Dinner|   4|\n",
       "|      8.77| 2.0|  Male|    No|Sun|Dinner|   2|\n",
       "|     26.88|3.12|  Male|    No|Sun|Dinner|   4|\n",
       "|     15.04|1.96|  Male|    No|Sun|Dinner|   2|\n",
       "|     14.78|3.23|  Male|    No|Sun|Dinner|   2|\n",
       "|     10.27|1.71|  Male|    No|Sun|Dinner|   2|\n",
       "|     35.26| 5.0|Female|    No|Sun|Dinner|   4|\n",
       "|     15.42|1.57|  Male|    No|Sun|Dinner|   2|\n",
       "|     18.43| 3.0|  Male|    No|Sun|Dinner|   4|\n",
       "|     14.83|3.02|Female|    No|Sun|Dinner|   2|\n",
       "|     21.58|3.92|  Male|    No|Sun|Dinner|   2|\n",
       "|     10.33|1.67|Female|    No|Sun|Dinner|   3|\n",
       "|     16.29|3.71|  Male|    No|Sun|Dinner|   3|\n",
       "|     16.97| 3.5|Female|    No|Sun|Dinner|   3|\n",
       "|     20.65|3.35|  Male|    No|Sat|Dinner|   3|\n",
       "+----------+----+------+------+---+------+----+\n",
       "only showing top 20 rows\n",
       "\n"
      ]
     },
     "metadata": {
      "application/vnd.databricks.v1+output": {
       "addedWidgets": {},
       "arguments": {},
       "data": "+----------+----+------+------+---+------+----+\n|total_bill| tip|   sex|smoker|day|  time|size|\n+----------+----+------+------+---+------+----+\n|     16.99|1.01|Female|    No|Sun|Dinner|   2|\n|     10.34|1.66|  Male|    No|Sun|Dinner|   3|\n|     21.01| 3.5|  Male|    No|Sun|Dinner|   3|\n|     23.68|3.31|  Male|    No|Sun|Dinner|   2|\n|     24.59|3.61|Female|    No|Sun|Dinner|   4|\n|     25.29|4.71|  Male|    No|Sun|Dinner|   4|\n|      8.77| 2.0|  Male|    No|Sun|Dinner|   2|\n|     26.88|3.12|  Male|    No|Sun|Dinner|   4|\n|     15.04|1.96|  Male|    No|Sun|Dinner|   2|\n|     14.78|3.23|  Male|    No|Sun|Dinner|   2|\n|     10.27|1.71|  Male|    No|Sun|Dinner|   2|\n|     35.26| 5.0|Female|    No|Sun|Dinner|   4|\n|     15.42|1.57|  Male|    No|Sun|Dinner|   2|\n|     18.43| 3.0|  Male|    No|Sun|Dinner|   4|\n|     14.83|3.02|Female|    No|Sun|Dinner|   2|\n|     21.58|3.92|  Male|    No|Sun|Dinner|   2|\n|     10.33|1.67|Female|    No|Sun|Dinner|   3|\n|     16.29|3.71|  Male|    No|Sun|Dinner|   3|\n|     16.97| 3.5|Female|    No|Sun|Dinner|   3|\n|     20.65|3.35|  Male|    No|Sat|Dinner|   3|\n+----------+----+------+------+---+------+----+\nonly showing top 20 rows\n\n",
       "datasetInfos": [],
       "metadata": {},
       "removedWidgets": [],
       "type": "ansi"
      }
     },
     "output_type": "display_data"
    }
   ],
   "source": [
    "# File location and type\n",
    "file_location = \"/FileStore/tables/tips.csv\"\n",
    "file_type = \"csv\"\n",
    "\n",
    "df=spark.read.csv(file_location,header=True,inferSchema=True)\n",
    "df.show()"
   ]
  },
  {
   "cell_type": "code",
   "execution_count": 0,
   "metadata": {
    "application/vnd.databricks.v1+cell": {
     "inputWidgets": {},
     "nuid": "bd82bb99-1479-4d5c-be10-8c36df0f1d44",
     "showTitle": false,
     "title": ""
    }
   },
   "outputs": [
    {
     "data": {
      "text/plain": [
       "root\n",
       " |-- total_bill: double (nullable = true)\n",
       " |-- tip: double (nullable = true)\n",
       " |-- sex: string (nullable = true)\n",
       " |-- smoker: string (nullable = true)\n",
       " |-- day: string (nullable = true)\n",
       " |-- time: string (nullable = true)\n",
       " |-- size: integer (nullable = true)\n",
       "\n"
      ]
     },
     "metadata": {
      "application/vnd.databricks.v1+output": {
       "addedWidgets": {},
       "arguments": {},
       "data": "root\n |-- total_bill: double (nullable = true)\n |-- tip: double (nullable = true)\n |-- sex: string (nullable = true)\n |-- smoker: string (nullable = true)\n |-- day: string (nullable = true)\n |-- time: string (nullable = true)\n |-- size: integer (nullable = true)\n\n",
       "datasetInfos": [],
       "metadata": {},
       "removedWidgets": [],
       "type": "ansi"
      }
     },
     "output_type": "display_data"
    }
   ],
   "source": [
    "df.printSchema()"
   ]
  },
  {
   "cell_type": "code",
   "execution_count": 0,
   "metadata": {
    "application/vnd.databricks.v1+cell": {
     "inputWidgets": {},
     "nuid": "b5f66379-6f7f-42ec-8e82-d0e0926a1721",
     "showTitle": false,
     "title": ""
    }
   },
   "outputs": [
    {
     "data": {
      "text/plain": [
       "Out[54]: ['total_bill', 'tip', 'sex', 'smoker', 'day', 'time', 'size']"
      ]
     },
     "metadata": {
      "application/vnd.databricks.v1+output": {
       "addedWidgets": {},
       "arguments": {},
       "data": "Out[54]: ['total_bill', 'tip', 'sex', 'smoker', 'day', 'time', 'size']",
       "datasetInfos": [],
       "metadata": {},
       "removedWidgets": [],
       "type": "ansi"
      }
     },
     "output_type": "display_data"
    }
   ],
   "source": [
    "df.columns"
   ]
  },
  {
   "cell_type": "code",
   "execution_count": 0,
   "metadata": {
    "application/vnd.databricks.v1+cell": {
     "inputWidgets": {},
     "nuid": "bf0944b7-1191-4774-97ca-29526cad518b",
     "showTitle": false,
     "title": ""
    }
   },
   "outputs": [],
   "source": [
    "#handling categorical features\n",
    "from pyspark.ml.feature import StringIndexer  #this string indexer will convert the string categorical features in numerical features\n",
    "indexer=StringIndexer(inputCols=[\"sex\",\"smoker\",\"day\",\"time\"],outputCols=[\"{}_indexed\".format(c) for c in ['sex','smoker','day','time']])"
   ]
  },
  {
   "cell_type": "code",
   "execution_count": 0,
   "metadata": {
    "application/vnd.databricks.v1+cell": {
     "inputWidgets": {},
     "nuid": "91e55f35-8504-43d7-a239-733835b2d36c",
     "showTitle": false,
     "title": ""
    }
   },
   "outputs": [],
   "source": [
    "df1=indexer.fit(df).transform(df)"
   ]
  },
  {
   "cell_type": "code",
   "execution_count": 0,
   "metadata": {
    "application/vnd.databricks.v1+cell": {
     "inputWidgets": {},
     "nuid": "b1980065-77b5-41dd-ab43-1b3e6d5cc5b8",
     "showTitle": false,
     "title": ""
    }
   },
   "outputs": [
    {
     "data": {
      "text/plain": [
       "+----------+----+------+------+---+------+----+-----------+--------------+-----------+------------+\n",
       "|total_bill| tip|   sex|smoker|day|  time|size|sex_indexed|smoker_indexed|day_indexed|time_indexed|\n",
       "+----------+----+------+------+---+------+----+-----------+--------------+-----------+------------+\n",
       "|     16.99|1.01|Female|    No|Sun|Dinner|   2|        1.0|           0.0|        1.0|         0.0|\n",
       "|     10.34|1.66|  Male|    No|Sun|Dinner|   3|        0.0|           0.0|        1.0|         0.0|\n",
       "|     21.01| 3.5|  Male|    No|Sun|Dinner|   3|        0.0|           0.0|        1.0|         0.0|\n",
       "|     23.68|3.31|  Male|    No|Sun|Dinner|   2|        0.0|           0.0|        1.0|         0.0|\n",
       "|     24.59|3.61|Female|    No|Sun|Dinner|   4|        1.0|           0.0|        1.0|         0.0|\n",
       "|     25.29|4.71|  Male|    No|Sun|Dinner|   4|        0.0|           0.0|        1.0|         0.0|\n",
       "|      8.77| 2.0|  Male|    No|Sun|Dinner|   2|        0.0|           0.0|        1.0|         0.0|\n",
       "|     26.88|3.12|  Male|    No|Sun|Dinner|   4|        0.0|           0.0|        1.0|         0.0|\n",
       "|     15.04|1.96|  Male|    No|Sun|Dinner|   2|        0.0|           0.0|        1.0|         0.0|\n",
       "|     14.78|3.23|  Male|    No|Sun|Dinner|   2|        0.0|           0.0|        1.0|         0.0|\n",
       "|     10.27|1.71|  Male|    No|Sun|Dinner|   2|        0.0|           0.0|        1.0|         0.0|\n",
       "|     35.26| 5.0|Female|    No|Sun|Dinner|   4|        1.0|           0.0|        1.0|         0.0|\n",
       "|     15.42|1.57|  Male|    No|Sun|Dinner|   2|        0.0|           0.0|        1.0|         0.0|\n",
       "|     18.43| 3.0|  Male|    No|Sun|Dinner|   4|        0.0|           0.0|        1.0|         0.0|\n",
       "|     14.83|3.02|Female|    No|Sun|Dinner|   2|        1.0|           0.0|        1.0|         0.0|\n",
       "|     21.58|3.92|  Male|    No|Sun|Dinner|   2|        0.0|           0.0|        1.0|         0.0|\n",
       "|     10.33|1.67|Female|    No|Sun|Dinner|   3|        1.0|           0.0|        1.0|         0.0|\n",
       "|     16.29|3.71|  Male|    No|Sun|Dinner|   3|        0.0|           0.0|        1.0|         0.0|\n",
       "|     16.97| 3.5|Female|    No|Sun|Dinner|   3|        1.0|           0.0|        1.0|         0.0|\n",
       "|     20.65|3.35|  Male|    No|Sat|Dinner|   3|        0.0|           0.0|        0.0|         0.0|\n",
       "+----------+----+------+------+---+------+----+-----------+--------------+-----------+------------+\n",
       "only showing top 20 rows\n",
       "\n"
      ]
     },
     "metadata": {
      "application/vnd.databricks.v1+output": {
       "addedWidgets": {},
       "arguments": {},
       "data": "+----------+----+------+------+---+------+----+-----------+--------------+-----------+------------+\n|total_bill| tip|   sex|smoker|day|  time|size|sex_indexed|smoker_indexed|day_indexed|time_indexed|\n+----------+----+------+------+---+------+----+-----------+--------------+-----------+------------+\n|     16.99|1.01|Female|    No|Sun|Dinner|   2|        1.0|           0.0|        1.0|         0.0|\n|     10.34|1.66|  Male|    No|Sun|Dinner|   3|        0.0|           0.0|        1.0|         0.0|\n|     21.01| 3.5|  Male|    No|Sun|Dinner|   3|        0.0|           0.0|        1.0|         0.0|\n|     23.68|3.31|  Male|    No|Sun|Dinner|   2|        0.0|           0.0|        1.0|         0.0|\n|     24.59|3.61|Female|    No|Sun|Dinner|   4|        1.0|           0.0|        1.0|         0.0|\n|     25.29|4.71|  Male|    No|Sun|Dinner|   4|        0.0|           0.0|        1.0|         0.0|\n|      8.77| 2.0|  Male|    No|Sun|Dinner|   2|        0.0|           0.0|        1.0|         0.0|\n|     26.88|3.12|  Male|    No|Sun|Dinner|   4|        0.0|           0.0|        1.0|         0.0|\n|     15.04|1.96|  Male|    No|Sun|Dinner|   2|        0.0|           0.0|        1.0|         0.0|\n|     14.78|3.23|  Male|    No|Sun|Dinner|   2|        0.0|           0.0|        1.0|         0.0|\n|     10.27|1.71|  Male|    No|Sun|Dinner|   2|        0.0|           0.0|        1.0|         0.0|\n|     35.26| 5.0|Female|    No|Sun|Dinner|   4|        1.0|           0.0|        1.0|         0.0|\n|     15.42|1.57|  Male|    No|Sun|Dinner|   2|        0.0|           0.0|        1.0|         0.0|\n|     18.43| 3.0|  Male|    No|Sun|Dinner|   4|        0.0|           0.0|        1.0|         0.0|\n|     14.83|3.02|Female|    No|Sun|Dinner|   2|        1.0|           0.0|        1.0|         0.0|\n|     21.58|3.92|  Male|    No|Sun|Dinner|   2|        0.0|           0.0|        1.0|         0.0|\n|     10.33|1.67|Female|    No|Sun|Dinner|   3|        1.0|           0.0|        1.0|         0.0|\n|     16.29|3.71|  Male|    No|Sun|Dinner|   3|        0.0|           0.0|        1.0|         0.0|\n|     16.97| 3.5|Female|    No|Sun|Dinner|   3|        1.0|           0.0|        1.0|         0.0|\n|     20.65|3.35|  Male|    No|Sat|Dinner|   3|        0.0|           0.0|        0.0|         0.0|\n+----------+----+------+------+---+------+----+-----------+--------------+-----------+------------+\nonly showing top 20 rows\n\n",
       "datasetInfos": [],
       "metadata": {},
       "removedWidgets": [],
       "type": "ansi"
      }
     },
     "output_type": "display_data"
    }
   ],
   "source": [
    "df1.show()"
   ]
  },
  {
   "cell_type": "code",
   "execution_count": 0,
   "metadata": {
    "application/vnd.databricks.v1+cell": {
     "inputWidgets": {},
     "nuid": "06d30a31-c8c7-4398-9efd-d5e2929ef44c",
     "showTitle": false,
     "title": ""
    }
   },
   "outputs": [],
   "source": [
    "final_df=df1.drop(\"sex\",\"smoker\",\"day\",\"time\")"
   ]
  },
  {
   "cell_type": "code",
   "execution_count": 0,
   "metadata": {
    "application/vnd.databricks.v1+cell": {
     "inputWidgets": {},
     "nuid": "6c16d092-e0a6-441e-b5d6-78c56b6d3442",
     "showTitle": false,
     "title": ""
    }
   },
   "outputs": [
    {
     "data": {
      "text/plain": [
       "+----------+----+----+-----------+--------------+-----------+------------+\n",
       "|total_bill| tip|size|sex_indexed|smoker_indexed|day_indexed|time_indexed|\n",
       "+----------+----+----+-----------+--------------+-----------+------------+\n",
       "|     16.99|1.01|   2|        1.0|           0.0|        1.0|         0.0|\n",
       "|     10.34|1.66|   3|        0.0|           0.0|        1.0|         0.0|\n",
       "|     21.01| 3.5|   3|        0.0|           0.0|        1.0|         0.0|\n",
       "|     23.68|3.31|   2|        0.0|           0.0|        1.0|         0.0|\n",
       "|     24.59|3.61|   4|        1.0|           0.0|        1.0|         0.0|\n",
       "|     25.29|4.71|   4|        0.0|           0.0|        1.0|         0.0|\n",
       "|      8.77| 2.0|   2|        0.0|           0.0|        1.0|         0.0|\n",
       "|     26.88|3.12|   4|        0.0|           0.0|        1.0|         0.0|\n",
       "|     15.04|1.96|   2|        0.0|           0.0|        1.0|         0.0|\n",
       "|     14.78|3.23|   2|        0.0|           0.0|        1.0|         0.0|\n",
       "|     10.27|1.71|   2|        0.0|           0.0|        1.0|         0.0|\n",
       "|     35.26| 5.0|   4|        1.0|           0.0|        1.0|         0.0|\n",
       "|     15.42|1.57|   2|        0.0|           0.0|        1.0|         0.0|\n",
       "|     18.43| 3.0|   4|        0.0|           0.0|        1.0|         0.0|\n",
       "|     14.83|3.02|   2|        1.0|           0.0|        1.0|         0.0|\n",
       "|     21.58|3.92|   2|        0.0|           0.0|        1.0|         0.0|\n",
       "|     10.33|1.67|   3|        1.0|           0.0|        1.0|         0.0|\n",
       "|     16.29|3.71|   3|        0.0|           0.0|        1.0|         0.0|\n",
       "|     16.97| 3.5|   3|        1.0|           0.0|        1.0|         0.0|\n",
       "|     20.65|3.35|   3|        0.0|           0.0|        0.0|         0.0|\n",
       "+----------+----+----+-----------+--------------+-----------+------------+\n",
       "only showing top 20 rows\n",
       "\n"
      ]
     },
     "metadata": {
      "application/vnd.databricks.v1+output": {
       "addedWidgets": {},
       "arguments": {},
       "data": "+----------+----+----+-----------+--------------+-----------+------------+\n|total_bill| tip|size|sex_indexed|smoker_indexed|day_indexed|time_indexed|\n+----------+----+----+-----------+--------------+-----------+------------+\n|     16.99|1.01|   2|        1.0|           0.0|        1.0|         0.0|\n|     10.34|1.66|   3|        0.0|           0.0|        1.0|         0.0|\n|     21.01| 3.5|   3|        0.0|           0.0|        1.0|         0.0|\n|     23.68|3.31|   2|        0.0|           0.0|        1.0|         0.0|\n|     24.59|3.61|   4|        1.0|           0.0|        1.0|         0.0|\n|     25.29|4.71|   4|        0.0|           0.0|        1.0|         0.0|\n|      8.77| 2.0|   2|        0.0|           0.0|        1.0|         0.0|\n|     26.88|3.12|   4|        0.0|           0.0|        1.0|         0.0|\n|     15.04|1.96|   2|        0.0|           0.0|        1.0|         0.0|\n|     14.78|3.23|   2|        0.0|           0.0|        1.0|         0.0|\n|     10.27|1.71|   2|        0.0|           0.0|        1.0|         0.0|\n|     35.26| 5.0|   4|        1.0|           0.0|        1.0|         0.0|\n|     15.42|1.57|   2|        0.0|           0.0|        1.0|         0.0|\n|     18.43| 3.0|   4|        0.0|           0.0|        1.0|         0.0|\n|     14.83|3.02|   2|        1.0|           0.0|        1.0|         0.0|\n|     21.58|3.92|   2|        0.0|           0.0|        1.0|         0.0|\n|     10.33|1.67|   3|        1.0|           0.0|        1.0|         0.0|\n|     16.29|3.71|   3|        0.0|           0.0|        1.0|         0.0|\n|     16.97| 3.5|   3|        1.0|           0.0|        1.0|         0.0|\n|     20.65|3.35|   3|        0.0|           0.0|        0.0|         0.0|\n+----------+----+----+-----------+--------------+-----------+------------+\nonly showing top 20 rows\n\n",
       "datasetInfos": [],
       "metadata": {},
       "removedWidgets": [],
       "type": "ansi"
      }
     },
     "output_type": "display_data"
    }
   ],
   "source": [
    "final_df.show()"
   ]
  },
  {
   "cell_type": "code",
   "execution_count": 0,
   "metadata": {
    "application/vnd.databricks.v1+cell": {
     "inputWidgets": {},
     "nuid": "c6f3bc73-68e2-4455-99ad-56ae8bda6560",
     "showTitle": false,
     "title": ""
    }
   },
   "outputs": [],
   "source": [
    "from pyspark.ml.feature import VectorAssembler\n",
    "featureassembler=VectorAssembler(inputCols=['tip','size','sex_indexed','smoker_indexed','day_indexed','time_indexed'],outputCol=\"independent_feature\")\n",
    "output=featureassembler.transform(final_df)"
   ]
  },
  {
   "cell_type": "code",
   "execution_count": 0,
   "metadata": {
    "application/vnd.databricks.v1+cell": {
     "inputWidgets": {},
     "nuid": "4e85446e-f21c-489f-89f9-4e7f67a67dd8",
     "showTitle": false,
     "title": ""
    }
   },
   "outputs": [
    {
     "data": {
      "text/plain": [
       "+----------+----+----+-----------+--------------+-----------+------------+--------------------+\n",
       "|total_bill| tip|size|sex_indexed|smoker_indexed|day_indexed|time_indexed| independent_feature|\n",
       "+----------+----+----+-----------+--------------+-----------+------------+--------------------+\n",
       "|     16.99|1.01|   2|        1.0|           0.0|        1.0|         0.0|[1.01,2.0,1.0,0.0...|\n",
       "|     10.34|1.66|   3|        0.0|           0.0|        1.0|         0.0|[1.66,3.0,0.0,0.0...|\n",
       "|     21.01| 3.5|   3|        0.0|           0.0|        1.0|         0.0|[3.5,3.0,0.0,0.0,...|\n",
       "|     23.68|3.31|   2|        0.0|           0.0|        1.0|         0.0|[3.31,2.0,0.0,0.0...|\n",
       "|     24.59|3.61|   4|        1.0|           0.0|        1.0|         0.0|[3.61,4.0,1.0,0.0...|\n",
       "|     25.29|4.71|   4|        0.0|           0.0|        1.0|         0.0|[4.71,4.0,0.0,0.0...|\n",
       "|      8.77| 2.0|   2|        0.0|           0.0|        1.0|         0.0|[2.0,2.0,0.0,0.0,...|\n",
       "|     26.88|3.12|   4|        0.0|           0.0|        1.0|         0.0|[3.12,4.0,0.0,0.0...|\n",
       "|     15.04|1.96|   2|        0.0|           0.0|        1.0|         0.0|[1.96,2.0,0.0,0.0...|\n",
       "|     14.78|3.23|   2|        0.0|           0.0|        1.0|         0.0|[3.23,2.0,0.0,0.0...|\n",
       "|     10.27|1.71|   2|        0.0|           0.0|        1.0|         0.0|[1.71,2.0,0.0,0.0...|\n",
       "|     35.26| 5.0|   4|        1.0|           0.0|        1.0|         0.0|[5.0,4.0,1.0,0.0,...|\n",
       "|     15.42|1.57|   2|        0.0|           0.0|        1.0|         0.0|[1.57,2.0,0.0,0.0...|\n",
       "|     18.43| 3.0|   4|        0.0|           0.0|        1.0|         0.0|[3.0,4.0,0.0,0.0,...|\n",
       "|     14.83|3.02|   2|        1.0|           0.0|        1.0|         0.0|[3.02,2.0,1.0,0.0...|\n",
       "|     21.58|3.92|   2|        0.0|           0.0|        1.0|         0.0|[3.92,2.0,0.0,0.0...|\n",
       "|     10.33|1.67|   3|        1.0|           0.0|        1.0|         0.0|[1.67,3.0,1.0,0.0...|\n",
       "|     16.29|3.71|   3|        0.0|           0.0|        1.0|         0.0|[3.71,3.0,0.0,0.0...|\n",
       "|     16.97| 3.5|   3|        1.0|           0.0|        1.0|         0.0|[3.5,3.0,1.0,0.0,...|\n",
       "|     20.65|3.35|   3|        0.0|           0.0|        0.0|         0.0|(6,[0,1],[3.35,3.0])|\n",
       "+----------+----+----+-----------+--------------+-----------+------------+--------------------+\n",
       "only showing top 20 rows\n",
       "\n"
      ]
     },
     "metadata": {
      "application/vnd.databricks.v1+output": {
       "addedWidgets": {},
       "arguments": {},
       "data": "+----------+----+----+-----------+--------------+-----------+------------+--------------------+\n|total_bill| tip|size|sex_indexed|smoker_indexed|day_indexed|time_indexed| independent_feature|\n+----------+----+----+-----------+--------------+-----------+------------+--------------------+\n|     16.99|1.01|   2|        1.0|           0.0|        1.0|         0.0|[1.01,2.0,1.0,0.0...|\n|     10.34|1.66|   3|        0.0|           0.0|        1.0|         0.0|[1.66,3.0,0.0,0.0...|\n|     21.01| 3.5|   3|        0.0|           0.0|        1.0|         0.0|[3.5,3.0,0.0,0.0,...|\n|     23.68|3.31|   2|        0.0|           0.0|        1.0|         0.0|[3.31,2.0,0.0,0.0...|\n|     24.59|3.61|   4|        1.0|           0.0|        1.0|         0.0|[3.61,4.0,1.0,0.0...|\n|     25.29|4.71|   4|        0.0|           0.0|        1.0|         0.0|[4.71,4.0,0.0,0.0...|\n|      8.77| 2.0|   2|        0.0|           0.0|        1.0|         0.0|[2.0,2.0,0.0,0.0,...|\n|     26.88|3.12|   4|        0.0|           0.0|        1.0|         0.0|[3.12,4.0,0.0,0.0...|\n|     15.04|1.96|   2|        0.0|           0.0|        1.0|         0.0|[1.96,2.0,0.0,0.0...|\n|     14.78|3.23|   2|        0.0|           0.0|        1.0|         0.0|[3.23,2.0,0.0,0.0...|\n|     10.27|1.71|   2|        0.0|           0.0|        1.0|         0.0|[1.71,2.0,0.0,0.0...|\n|     35.26| 5.0|   4|        1.0|           0.0|        1.0|         0.0|[5.0,4.0,1.0,0.0,...|\n|     15.42|1.57|   2|        0.0|           0.0|        1.0|         0.0|[1.57,2.0,0.0,0.0...|\n|     18.43| 3.0|   4|        0.0|           0.0|        1.0|         0.0|[3.0,4.0,0.0,0.0,...|\n|     14.83|3.02|   2|        1.0|           0.0|        1.0|         0.0|[3.02,2.0,1.0,0.0...|\n|     21.58|3.92|   2|        0.0|           0.0|        1.0|         0.0|[3.92,2.0,0.0,0.0...|\n|     10.33|1.67|   3|        1.0|           0.0|        1.0|         0.0|[1.67,3.0,1.0,0.0...|\n|     16.29|3.71|   3|        0.0|           0.0|        1.0|         0.0|[3.71,3.0,0.0,0.0...|\n|     16.97| 3.5|   3|        1.0|           0.0|        1.0|         0.0|[3.5,3.0,1.0,0.0,...|\n|     20.65|3.35|   3|        0.0|           0.0|        0.0|         0.0|(6,[0,1],[3.35,3.0])|\n+----------+----+----+-----------+--------------+-----------+------------+--------------------+\nonly showing top 20 rows\n\n",
       "datasetInfos": [],
       "metadata": {},
       "removedWidgets": [],
       "type": "ansi"
      }
     },
     "output_type": "display_data"
    }
   ],
   "source": [
    "output.show()"
   ]
  },
  {
   "cell_type": "code",
   "execution_count": 0,
   "metadata": {
    "application/vnd.databricks.v1+cell": {
     "inputWidgets": {},
     "nuid": "c5bf5656-4518-4c16-9da7-c53fc1b4c01a",
     "showTitle": false,
     "title": ""
    }
   },
   "outputs": [],
   "source": [
    "finalized_data=output.select(\"independent_feature\",\"total_bill\")"
   ]
  },
  {
   "cell_type": "code",
   "execution_count": 0,
   "metadata": {
    "application/vnd.databricks.v1+cell": {
     "inputWidgets": {},
     "nuid": "937392c4-78d9-4b1c-a186-cff87a1b912b",
     "showTitle": false,
     "title": ""
    }
   },
   "outputs": [
    {
     "data": {
      "text/plain": [
       "+--------------------+----------+\n",
       "| independent_feature|total_bill|\n",
       "+--------------------+----------+\n",
       "|[1.01,2.0,1.0,0.0...|     16.99|\n",
       "|[1.66,3.0,0.0,0.0...|     10.34|\n",
       "|[3.5,3.0,0.0,0.0,...|     21.01|\n",
       "|[3.31,2.0,0.0,0.0...|     23.68|\n",
       "|[3.61,4.0,1.0,0.0...|     24.59|\n",
       "|[4.71,4.0,0.0,0.0...|     25.29|\n",
       "|[2.0,2.0,0.0,0.0,...|      8.77|\n",
       "|[3.12,4.0,0.0,0.0...|     26.88|\n",
       "|[1.96,2.0,0.0,0.0...|     15.04|\n",
       "|[3.23,2.0,0.0,0.0...|     14.78|\n",
       "|[1.71,2.0,0.0,0.0...|     10.27|\n",
       "|[5.0,4.0,1.0,0.0,...|     35.26|\n",
       "|[1.57,2.0,0.0,0.0...|     15.42|\n",
       "|[3.0,4.0,0.0,0.0,...|     18.43|\n",
       "|[3.02,2.0,1.0,0.0...|     14.83|\n",
       "|[3.92,2.0,0.0,0.0...|     21.58|\n",
       "|[1.67,3.0,1.0,0.0...|     10.33|\n",
       "|[3.71,3.0,0.0,0.0...|     16.29|\n",
       "|[3.5,3.0,1.0,0.0,...|     16.97|\n",
       "|(6,[0,1],[3.35,3.0])|     20.65|\n",
       "+--------------------+----------+\n",
       "only showing top 20 rows\n",
       "\n"
      ]
     },
     "metadata": {
      "application/vnd.databricks.v1+output": {
       "addedWidgets": {},
       "arguments": {},
       "data": "+--------------------+----------+\n| independent_feature|total_bill|\n+--------------------+----------+\n|[1.01,2.0,1.0,0.0...|     16.99|\n|[1.66,3.0,0.0,0.0...|     10.34|\n|[3.5,3.0,0.0,0.0,...|     21.01|\n|[3.31,2.0,0.0,0.0...|     23.68|\n|[3.61,4.0,1.0,0.0...|     24.59|\n|[4.71,4.0,0.0,0.0...|     25.29|\n|[2.0,2.0,0.0,0.0,...|      8.77|\n|[3.12,4.0,0.0,0.0...|     26.88|\n|[1.96,2.0,0.0,0.0...|     15.04|\n|[3.23,2.0,0.0,0.0...|     14.78|\n|[1.71,2.0,0.0,0.0...|     10.27|\n|[5.0,4.0,1.0,0.0,...|     35.26|\n|[1.57,2.0,0.0,0.0...|     15.42|\n|[3.0,4.0,0.0,0.0,...|     18.43|\n|[3.02,2.0,1.0,0.0...|     14.83|\n|[3.92,2.0,0.0,0.0...|     21.58|\n|[1.67,3.0,1.0,0.0...|     10.33|\n|[3.71,3.0,0.0,0.0...|     16.29|\n|[3.5,3.0,1.0,0.0,...|     16.97|\n|(6,[0,1],[3.35,3.0])|     20.65|\n+--------------------+----------+\nonly showing top 20 rows\n\n",
       "datasetInfos": [],
       "metadata": {},
       "removedWidgets": [],
       "type": "ansi"
      }
     },
     "output_type": "display_data"
    }
   ],
   "source": [
    "finalized_data.show()"
   ]
  },
  {
   "cell_type": "code",
   "execution_count": 0,
   "metadata": {
    "application/vnd.databricks.v1+cell": {
     "inputWidgets": {},
     "nuid": "005c9c64-010e-47a7-aacf-1564d92a754d",
     "showTitle": false,
     "title": ""
    }
   },
   "outputs": [],
   "source": [
    "from pyspark.ml.regression import LinearRegression\n",
    "train_data,test_data=finalized_data.randomSplit([0.75,0.25])\n",
    "regressor=LinearRegression(featuresCol=\"independent_feature\",labelCol=\"total_bill\")\n",
    "regressor=regressor.fit(train_data)"
   ]
  },
  {
   "cell_type": "code",
   "execution_count": 0,
   "metadata": {
    "application/vnd.databricks.v1+cell": {
     "inputWidgets": {},
     "nuid": "28c381fb-407e-4ce0-8ffd-93ffc75852e5",
     "showTitle": false,
     "title": ""
    }
   },
   "outputs": [],
   "source": [
    "prediction=regressor.evaluate(test_data)"
   ]
  },
  {
   "cell_type": "code",
   "execution_count": 0,
   "metadata": {
    "application/vnd.databricks.v1+cell": {
     "inputWidgets": {},
     "nuid": "db9631f6-bb4a-42ca-8a3c-0d48af932331",
     "showTitle": false,
     "title": ""
    }
   },
   "outputs": [
    {
     "data": {
      "text/plain": [
       "+--------------------+----------+------------------+\n",
       "| independent_feature|total_bill|        prediction|\n",
       "+--------------------+----------+------------------+\n",
       "| (6,[0,1],[2.0,2.0])|     13.37|14.636410915312766|\n",
       "| (6,[0,1],[2.0,3.0])|     16.31|17.555595673932856|\n",
       "|(6,[0,1],[2.01,2.0])|     20.23|14.668416236408655|\n",
       "|(6,[0,1],[2.31,3.0])|     18.69|18.547760627905465|\n",
       "|(6,[0,1],[3.27,2.0])|     17.78| 18.70108669449088|\n",
       "|(6,[0,1],[4.08,2.0])|     17.92| 21.29351770325802|\n",
       "| (6,[0,1],[5.0,3.0])|     31.27|27.157192002700047|\n",
       "|(6,[0,1],[6.73,4.0])|     48.27| 35.61329731090921|\n",
       "|[1.25,2.0,1.0,0.0...|      8.51| 9.836526903201731|\n",
       "|[1.5,2.0,0.0,1.0,...|     11.59|15.844699412247008|\n",
       "|[1.5,2.0,0.0,1.0,...|     12.03|16.328392384264333|\n",
       "|[1.5,2.0,1.0,0.0,...|      8.35|10.636659930598997|\n",
       "|[1.8,2.0,1.0,0.0,...|     12.43|11.596819563475718|\n",
       "|[1.96,2.0,0.0,0.0...|     15.04|14.669620621601645|\n",
       "|[1.98,2.0,0.0,1.0...|     11.02|17.380954824849763|\n",
       "|[2.0,2.0,0.0,0.0,...|      8.77|14.797641905985207|\n",
       "|[2.0,2.0,0.0,0.0,...|      7.51| 13.06871089202207|\n",
       "|[2.0,2.0,0.0,0.0,...|     13.03| 13.06871089202207|\n",
       "|[2.0,2.0,0.0,1.0,...|     14.48|17.606196457713985|\n",
       "|[2.0,2.0,0.0,1.0,...|     13.51|15.877265443750847|\n",
       "+--------------------+----------+------------------+\n",
       "only showing top 20 rows\n",
       "\n"
      ]
     },
     "metadata": {
      "application/vnd.databricks.v1+output": {
       "addedWidgets": {},
       "arguments": {},
       "data": "+--------------------+----------+------------------+\n| independent_feature|total_bill|        prediction|\n+--------------------+----------+------------------+\n| (6,[0,1],[2.0,2.0])|     13.37|14.636410915312766|\n| (6,[0,1],[2.0,3.0])|     16.31|17.555595673932856|\n|(6,[0,1],[2.01,2.0])|     20.23|14.668416236408655|\n|(6,[0,1],[2.31,3.0])|     18.69|18.547760627905465|\n|(6,[0,1],[3.27,2.0])|     17.78| 18.70108669449088|\n|(6,[0,1],[4.08,2.0])|     17.92| 21.29351770325802|\n| (6,[0,1],[5.0,3.0])|     31.27|27.157192002700047|\n|(6,[0,1],[6.73,4.0])|     48.27| 35.61329731090921|\n|[1.25,2.0,1.0,0.0...|      8.51| 9.836526903201731|\n|[1.5,2.0,0.0,1.0,...|     11.59|15.844699412247008|\n|[1.5,2.0,0.0,1.0,...|     12.03|16.328392384264333|\n|[1.5,2.0,1.0,0.0,...|      8.35|10.636659930598997|\n|[1.8,2.0,1.0,0.0,...|     12.43|11.596819563475718|\n|[1.96,2.0,0.0,0.0...|     15.04|14.669620621601645|\n|[1.98,2.0,0.0,1.0...|     11.02|17.380954824849763|\n|[2.0,2.0,0.0,0.0,...|      8.77|14.797641905985207|\n|[2.0,2.0,0.0,0.0,...|      7.51| 13.06871089202207|\n|[2.0,2.0,0.0,0.0,...|     13.03| 13.06871089202207|\n|[2.0,2.0,0.0,1.0,...|     14.48|17.606196457713985|\n|[2.0,2.0,0.0,1.0,...|     13.51|15.877265443750847|\n+--------------------+----------+------------------+\nonly showing top 20 rows\n\n",
       "datasetInfos": [],
       "metadata": {},
       "removedWidgets": [],
       "type": "ansi"
      }
     },
     "output_type": "display_data"
    }
   ],
   "source": [
    "prediction.predictions.show()"
   ]
  },
  {
   "cell_type": "code",
   "execution_count": 0,
   "metadata": {
    "application/vnd.databricks.v1+cell": {
     "inputWidgets": {},
     "nuid": "a47765ef-ecd6-43c7-b822-483f05c313ae",
     "showTitle": false,
     "title": ""
    }
   },
   "outputs": [
    {
     "data": {
      "text/plain": [
       "Out[82]: (0.5315638690964258, 4.312887887339609, 35.190133282188974)"
      ]
     },
     "metadata": {
      "application/vnd.databricks.v1+output": {
       "addedWidgets": {},
       "arguments": {},
       "data": "Out[82]: (0.5315638690964258, 4.312887887339609, 35.190133282188974)",
       "datasetInfos": [],
       "metadata": {},
       "removedWidgets": [],
       "type": "ansi"
      }
     },
     "output_type": "display_data"
    }
   ],
   "source": [
    "#performance matrix\n",
    "prediction.r2,prediction.meanAbsoluteError,prediction.meanSquaredError"
   ]
  },
  {
   "cell_type": "code",
   "execution_count": 0,
   "metadata": {
    "application/vnd.databricks.v1+cell": {
     "inputWidgets": {},
     "nuid": "8814ab56-33d2-4248-b7aa-a521595913af",
     "showTitle": false,
     "title": ""
    }
   },
   "outputs": [
    {
     "data": {
      "text/html": [
       "<style scoped>\n",
       "  .ansiout {\n",
       "    display: block;\n",
       "    unicode-bidi: embed;\n",
       "    white-space: pre-wrap;\n",
       "    word-wrap: break-word;\n",
       "    word-break: break-all;\n",
       "    font-family: \"Source Code Pro\", \"Menlo\", monospace;;\n",
       "    font-size: 13px;\n",
       "    color: #555;\n",
       "    margin-left: 4px;\n",
       "    line-height: 19px;\n",
       "  }\n",
       "</style>"
      ]
     },
     "metadata": {
      "application/vnd.databricks.v1+output": {
       "arguments": {},
       "data": "",
       "errorSummary": "",
       "errorTraceType": null,
       "metadata": {},
       "type": "ipynbError"
      }
     },
     "output_type": "display_data"
    }
   ],
   "source": []
  }
 ],
 "metadata": {
  "application/vnd.databricks.v1+notebook": {
   "dashboards": [],
   "language": "python",
   "notebookMetadata": {
    "pythonIndentUnit": 4
   },
   "notebookName": "Linear regreesion with pyspark on databricks",
   "notebookOrigID": 3104172950299871,
   "widgets": {}
  },
  "kernelspec": {
   "display_name": "Python 3",
   "language": "python",
   "name": "python3"
  },
  "language_info": {
   "codemirror_mode": {
    "name": "ipython",
    "version": 3
   },
   "file_extension": ".py",
   "mimetype": "text/x-python",
   "name": "python",
   "nbconvert_exporter": "python",
   "pygments_lexer": "ipython3",
   "version": "3.8.5"
  }
 },
 "nbformat": 4,
 "nbformat_minor": 1
}
