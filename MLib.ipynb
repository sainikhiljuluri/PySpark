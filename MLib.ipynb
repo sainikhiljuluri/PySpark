{
 "cells": [
  {
   "cell_type": "markdown",
   "metadata": {
    "application/vnd.databricks.v1+cell": {
     "inputWidgets": {},
     "nuid": "96816ed7-b08a-4ca3-abb9-f99880c3535d",
     "showTitle": false,
     "title": ""
    }
   },
   "source": [
    "## MLib\n"
   ]
  },
  {
   "cell_type": "markdown",
   "metadata": {},
   "source": [
    "## Spark ML\n",
    "##### Spark helps us to create a unified data pipeline from engineering till model training.\n",
    "##### It is easy to migrate to cloud and hybrid cloud.\n",
    "#### Spark ML provides a unified API for Machine Learning,it has a transformers API's which supports the data pre-processing and it has the estimators which help us to build the machine learning model and finally it has the evaluation component in it to evaluate a model.\n",
    "![](1111.jpeg)"
   ]
  },
  {
   "cell_type": "code",
   "execution_count": 0,
   "metadata": {
    "application/vnd.databricks.v1+cell": {
     "inputWidgets": {},
     "nuid": "6482be4c-f067-47c9-b0ac-35c938b94601",
     "showTitle": false,
     "title": ""
    }
   },
   "outputs": [],
   "source": [
    "# File location and type\n",
    "file_location = \"/FileStore/tables/Book123.csv\"\n",
    "file_type = \"csv\"\n",
    "\n",
    "\n",
    "df_pyspark=spark.read.csv(file_location,header=True,inferSchema=True)"
   ]
  },
  {
   "cell_type": "code",
   "execution_count": 0,
   "metadata": {
    "application/vnd.databricks.v1+cell": {
     "inputWidgets": {},
     "nuid": "bd82bb99-1479-4d5c-be10-8c36df0f1d44",
     "showTitle": false,
     "title": ""
    }
   },
   "outputs": [
    {
     "data": {
      "text/plain": [
       "+------+---+------+----------+\n",
       "|  Name|Age|salary|Experience|\n",
       "+------+---+------+----------+\n",
       "|   sai| 20|  1000|         2|\n",
       "|nikhil| 24|  2000|         3|\n",
       "|juluri| 23|   158|         0|\n",
       "|sumith| 21|   965|         1|\n",
       "|kushal| 12|   124|         0|\n",
       "|  hell| 15|   131|         0|\n",
       "+------+---+------+----------+\n",
       "\n"
      ]
     },
     "metadata": {
      "application/vnd.databricks.v1+output": {
       "addedWidgets": {},
       "arguments": {},
       "data": "+------+---+------+----------+\n|  Name|Age|salary|Experience|\n+------+---+------+----------+\n|   sai| 20|  1000|         2|\n|nikhil| 24|  2000|         3|\n|juluri| 23|   158|         0|\n|sumith| 21|   965|         1|\n|kushal| 12|   124|         0|\n|  hell| 15|   131|         0|\n+------+---+------+----------+\n\n",
       "datasetInfos": [],
       "metadata": {},
       "removedWidgets": [],
       "type": "ansi"
      }
     },
     "output_type": "display_data"
    }
   ],
   "source": [
    "df_pyspark.show()"
   ]
  },
  {
   "cell_type": "code",
   "execution_count": 0,
   "metadata": {
    "application/vnd.databricks.v1+cell": {
     "inputWidgets": {},
     "nuid": "0efe45c3-3a15-48ea-afca-c259e4acfe05",
     "showTitle": false,
     "title": ""
    }
   },
   "outputs": [],
   "source": [
    "from pyspark.ml.feature import VectorAssembler\n",
    "featureassembler=VectorAssembler(inputCols=['Age','Experience'],outputCol='independent feature')"
   ]
  },
  {
   "cell_type": "code",
   "execution_count": 0,
   "metadata": {
    "application/vnd.databricks.v1+cell": {
     "inputWidgets": {},
     "nuid": "95c3a2ae-a321-4375-888b-094e1ad8449b",
     "showTitle": false,
     "title": ""
    }
   },
   "outputs": [],
   "source": [
    "output=featureassembler.transform(df_pyspark)"
   ]
  },
  {
   "cell_type": "code",
   "execution_count": 0,
   "metadata": {
    "application/vnd.databricks.v1+cell": {
     "inputWidgets": {},
     "nuid": "2cba24dc-9aec-4882-8224-ad7663fba2c7",
     "showTitle": false,
     "title": ""
    }
   },
   "outputs": [
    {
     "data": {
      "text/plain": [
       "+------+---+------+----------+-------------------+\n",
       "|  Name|Age|salary|Experience|independent feature|\n",
       "+------+---+------+----------+-------------------+\n",
       "|   sai| 20|  1000|         2|         [20.0,2.0]|\n",
       "|nikhil| 24|  2000|         3|         [24.0,3.0]|\n",
       "|juluri| 23|   158|         0|         [23.0,0.0]|\n",
       "|sumith| 21|   965|         1|         [21.0,1.0]|\n",
       "|kushal| 12|   124|         0|         [12.0,0.0]|\n",
       "|  hell| 15|   131|         0|         [15.0,0.0]|\n",
       "+------+---+------+----------+-------------------+\n",
       "\n"
      ]
     },
     "metadata": {
      "application/vnd.databricks.v1+output": {
       "addedWidgets": {},
       "arguments": {},
       "data": "+------+---+------+----------+-------------------+\n|  Name|Age|salary|Experience|independent feature|\n+------+---+------+----------+-------------------+\n|   sai| 20|  1000|         2|         [20.0,2.0]|\n|nikhil| 24|  2000|         3|         [24.0,3.0]|\n|juluri| 23|   158|         0|         [23.0,0.0]|\n|sumith| 21|   965|         1|         [21.0,1.0]|\n|kushal| 12|   124|         0|         [12.0,0.0]|\n|  hell| 15|   131|         0|         [15.0,0.0]|\n+------+---+------+----------+-------------------+\n\n",
       "datasetInfos": [],
       "metadata": {},
       "removedWidgets": [],
       "type": "ansi"
      }
     },
     "output_type": "display_data"
    }
   ],
   "source": [
    "output.show()"
   ]
  },
  {
   "cell_type": "code",
   "execution_count": 0,
   "metadata": {
    "application/vnd.databricks.v1+cell": {
     "inputWidgets": {},
     "nuid": "a1ebc6d1-9d68-4c88-8c68-2fa7853d255b",
     "showTitle": false,
     "title": ""
    }
   },
   "outputs": [],
   "source": [
    "final_data=output.select('independent feature','salary')"
   ]
  },
  {
   "cell_type": "code",
   "execution_count": 0,
   "metadata": {
    "application/vnd.databricks.v1+cell": {
     "inputWidgets": {},
     "nuid": "04ae0b84-1d3d-4820-8459-f1aa9cc7b797",
     "showTitle": false,
     "title": ""
    }
   },
   "outputs": [
    {
     "data": {
      "text/plain": [
       "+-------------------+------+\n",
       "|independent feature|salary|\n",
       "+-------------------+------+\n",
       "|         [20.0,2.0]|  1000|\n",
       "|         [24.0,3.0]|  2000|\n",
       "|         [23.0,0.0]|   158|\n",
       "|         [21.0,1.0]|   965|\n",
       "|         [12.0,0.0]|   124|\n",
       "|         [15.0,0.0]|   131|\n",
       "+-------------------+------+\n",
       "\n"
      ]
     },
     "metadata": {
      "application/vnd.databricks.v1+output": {
       "addedWidgets": {},
       "arguments": {},
       "data": "+-------------------+------+\n|independent feature|salary|\n+-------------------+------+\n|         [20.0,2.0]|  1000|\n|         [24.0,3.0]|  2000|\n|         [23.0,0.0]|   158|\n|         [21.0,1.0]|   965|\n|         [12.0,0.0]|   124|\n|         [15.0,0.0]|   131|\n+-------------------+------+\n\n",
       "datasetInfos": [],
       "metadata": {},
       "removedWidgets": [],
       "type": "ansi"
      }
     },
     "output_type": "display_data"
    }
   ],
   "source": [
    "final_data.show()"
   ]
  },
  {
   "cell_type": "code",
   "execution_count": 0,
   "metadata": {
    "application/vnd.databricks.v1+cell": {
     "inputWidgets": {},
     "nuid": "958799ae-7611-4274-8cde-9909fd33d1e6",
     "showTitle": false,
     "title": ""
    }
   },
   "outputs": [],
   "source": [
    "from pyspark.ml.regression import LinearRegression #using linear regression\n",
    "train_data,test_data=final_data.randomSplit([0.75,0.25])  #traintest split\n",
    "regressor=LinearRegression(featuresCol='independent feature',labelCol='salary')\n",
    "regressor=regressor.fit(train_data)"
   ]
  },
  {
   "cell_type": "code",
   "execution_count": 0,
   "metadata": {
    "application/vnd.databricks.v1+cell": {
     "inputWidgets": {},
     "nuid": "25cd14f9-9f32-4c5c-9898-b8dd93c0a56a",
     "showTitle": false,
     "title": ""
    }
   },
   "outputs": [
    {
     "data": {
      "text/plain": [
       "Out[16]: DenseVector([10.3896, 557.013])"
      ]
     },
     "metadata": {
      "application/vnd.databricks.v1+output": {
       "addedWidgets": {},
       "arguments": {},
       "data": "Out[16]: DenseVector([10.3896, 557.013])",
       "datasetInfos": [],
       "metadata": {},
       "removedWidgets": [],
       "type": "ansi"
      }
     },
     "output_type": "display_data"
    }
   ],
   "source": [
    "#coefficients\n",
    "regressor.coefficients"
   ]
  },
  {
   "cell_type": "code",
   "execution_count": 0,
   "metadata": {
    "application/vnd.databricks.v1+cell": {
     "inputWidgets": {},
     "nuid": "f0b67206-df14-4a8a-9526-1472d120dd3e",
     "showTitle": false,
     "title": ""
    }
   },
   "outputs": [
    {
     "data": {
      "text/plain": [
       "Out[17]: -80.96103896103936"
      ]
     },
     "metadata": {
      "application/vnd.databricks.v1+output": {
       "addedWidgets": {},
       "arguments": {},
       "data": "Out[17]: -80.96103896103936",
       "datasetInfos": [],
       "metadata": {},
       "removedWidgets": [],
       "type": "ansi"
      }
     },
     "output_type": "display_data"
    }
   ],
   "source": [
    "#intercepts\n",
    "regressor.intercept"
   ]
  },
  {
   "cell_type": "code",
   "execution_count": 0,
   "metadata": {
    "application/vnd.databricks.v1+cell": {
     "inputWidgets": {},
     "nuid": "d80d9c57-7869-4802-bddd-29c2938d2e20",
     "showTitle": false,
     "title": ""
    }
   },
   "outputs": [],
   "source": [
    "#predictions\n",
    "pred_results=regressor.evaluate(test_data)"
   ]
  },
  {
   "cell_type": "code",
   "execution_count": 0,
   "metadata": {
    "application/vnd.databricks.v1+cell": {
     "inputWidgets": {},
     "nuid": "b5f66379-6f7f-42ec-8e82-d0e0926a1721",
     "showTitle": false,
     "title": ""
    }
   },
   "outputs": [
    {
     "data": {
      "text/plain": [
       "+-------------------+------+-----------------+\n",
       "|independent feature|salary|       prediction|\n",
       "+-------------------+------+-----------------+\n",
       "|         [15.0,0.0]|   131|74.88311688311633|\n",
       "|         [21.0,1.0]|   965|694.2337662337661|\n",
       "+-------------------+------+-----------------+\n",
       "\n"
      ]
     },
     "metadata": {
      "application/vnd.databricks.v1+output": {
       "addedWidgets": {},
       "arguments": {},
       "data": "+-------------------+------+-----------------+\n|independent feature|salary|       prediction|\n+-------------------+------+-----------------+\n|         [15.0,0.0]|   131|74.88311688311633|\n|         [21.0,1.0]|   965|694.2337662337661|\n+-------------------+------+-----------------+\n\n",
       "datasetInfos": [],
       "metadata": {},
       "removedWidgets": [],
       "type": "ansi"
      }
     },
     "output_type": "display_data"
    }
   ],
   "source": [
    "pred_results.predictions.show()"
   ]
  },
  {
   "cell_type": "code",
   "execution_count": 0,
   "metadata": {
    "application/vnd.databricks.v1+cell": {
     "inputWidgets": {},
     "nuid": "db9631f6-bb4a-42ca-8a3c-0d48af932331",
     "showTitle": false,
     "title": ""
    }
   },
   "outputs": [
    {
     "data": {
      "text/plain": [
       "Out[21]: (0.7801371624464319, 163.44155844155878, 38231.728959352404)"
      ]
     },
     "metadata": {
      "application/vnd.databricks.v1+output": {
       "addedWidgets": {},
       "arguments": {},
       "data": "Out[21]: (0.7801371624464319, 163.44155844155878, 38231.728959352404)",
       "datasetInfos": [],
       "metadata": {},
       "removedWidgets": [],
       "type": "ansi"
      }
     },
     "output_type": "display_data"
    }
   ],
   "source": [
    "pred_results.r2,pred_results.meanAbsoluteError,pred_results.meanSquaredError"
   ]
  },
  {
   "cell_type": "code",
   "execution_count": 0,
   "metadata": {
    "application/vnd.databricks.v1+cell": {
     "inputWidgets": {},
     "nuid": "42e312cf-d5b5-419e-8350-ed957e36d6bb",
     "showTitle": false,
     "title": ""
    }
   },
   "outputs": [
    {
     "data": {
      "text/html": [
       "<style scoped>\n",
       "  .ansiout {\n",
       "    display: block;\n",
       "    unicode-bidi: embed;\n",
       "    white-space: pre-wrap;\n",
       "    word-wrap: break-word;\n",
       "    word-break: break-all;\n",
       "    font-family: \"Source Code Pro\", \"Menlo\", monospace;;\n",
       "    font-size: 13px;\n",
       "    color: #555;\n",
       "    margin-left: 4px;\n",
       "    line-height: 19px;\n",
       "  }\n",
       "</style>"
      ]
     },
     "metadata": {
      "application/vnd.databricks.v1+output": {
       "arguments": {},
       "data": "",
       "errorSummary": "",
       "errorTraceType": null,
       "metadata": {},
       "type": "ipynbError"
      }
     },
     "output_type": "display_data"
    }
   ],
   "source": []
  }
 ],
 "metadata": {
  "application/vnd.databricks.v1+notebook": {
   "dashboards": [],
   "language": "python",
   "notebookMetadata": {
    "pythonIndentUnit": 4
   },
   "notebookName": "MLib",
   "notebookOrigID": 3857131252505984,
   "widgets": {}
  },
  "kernelspec": {
   "display_name": "Python 3",
   "language": "python",
   "name": "python3"
  },
  "language_info": {
   "codemirror_mode": {
    "name": "ipython",
    "version": 3
   },
   "file_extension": ".py",
   "mimetype": "text/x-python",
   "name": "python",
   "nbconvert_exporter": "python",
   "pygments_lexer": "ipython3",
   "version": "3.8.5"
  }
 },
 "nbformat": 4,
 "nbformat_minor": 1
}
